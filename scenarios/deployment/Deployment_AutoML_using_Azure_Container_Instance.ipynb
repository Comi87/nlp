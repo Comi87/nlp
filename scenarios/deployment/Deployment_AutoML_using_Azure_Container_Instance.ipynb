{
 "cells": [
  {
   "cell_type": "markdown",
   "metadata": {},
   "source": [
    "# Deploying AutoML model as web service to Azure Container Instance (ACI)\n",
    "\n",
    "This notebook shows the steps for deploying a service: registering a model, creating an image, provisioning a cluster (one time action), and deploying a service to it. We then test and delete the service, image and model.\n"
   ]
  },
  {
   "cell_type": "code",
   "execution_count": 1,
   "metadata": {},
   "outputs": [],
   "source": [
    "import os\n",
    "import requests\n",
    "\n",
    "\n",
    "import azureml.core\n",
    "from azureml.core import Experiment, Workspace\n",
    "from azureml.core.image import ContainerImage\n",
    "from azureml.core.model import Model\n",
    "from azureml.core.webservice import AciWebservice, Webservice\n",
    "from azureml.core.compute import ComputeTarget\n",
    "from azureml.exceptions import ProjectSystemException, UserErrorException\n",
    "\n",
    "import sys\n",
    "sys.path.append(\"../../\")"
   ]
  },
  {
   "cell_type": "code",
   "execution_count": 2,
   "metadata": {},
   "outputs": [
    {
     "name": "stdout",
     "output_type": "stream",
     "text": [
      "Azure ML SDK Version: 1.0.43\n"
     ]
    }
   ],
   "source": [
    "# Check core SDK version number\n",
    "print(f\"Azure ML SDK Version: {azureml.core.VERSION}\")"
   ]
  },
  {
   "cell_type": "markdown",
   "metadata": {},
   "source": [
    "## Get workspace\n",
    "\n",
    "Load existing workspace from the config file info. \n",
    "The config file can be downloaded from the portal and should be placed in the same folder as this notebook."
   ]
  },
  {
   "cell_type": "code",
   "execution_count": 3,
   "metadata": {},
   "outputs": [
    {
     "name": "stdout",
     "output_type": "stream",
     "text": [
      "Workspace was loaded successfully from the configuration file\n"
     ]
    }
   ],
   "source": [
    "# Let's load the workspace from the configuration file\n",
    "ws = Workspace.from_config()\n",
    "print(\"Workspace was loaded successfully from the configuration file\")"
   ]
  },
  {
   "cell_type": "code",
   "execution_count": 4,
   "metadata": {},
   "outputs": [
    {
     "name": "stdout",
     "output_type": "stream",
     "text": [
      "Workspace name: MAIDAPNLP\n",
      "       Azure region: eastus2\n",
      "       Subscription id: 15ae9cb6-95c1-483d-a0e3-b1a1a3b06324\n",
      "       Resource group: nlprg\n"
     ]
    }
   ],
   "source": [
    "# Print the workspace attributes\n",
    "print(f'Workspace name: {ws.name}\\n \\\n",
    "      Azure region: {ws.location}\\n \\\n",
    "      Subscription id: {ws.subscription_id}\\n \\\n",
    "      Resource group: {ws.resource_group}')"
   ]
  },
  {
   "cell_type": "markdown",
   "metadata": {},
   "source": [
    "## Create a new workspace\n",
    "Create new workspace if you don't have one already. "
   ]
  },
  {
   "cell_type": "code",
   "execution_count": null,
   "metadata": {},
   "outputs": [],
   "source": [
    "# Let's define these variables here - These pieces of information can be found on the portal\n",
    "subscription_id = os.getenv(\"SUBSCRIPTION_ID\", default=\"<our_subscription_id>\")\n",
    "resource_group =  os.getenv(\"RESOURCE_GROUP\", default=\"<our_resource_group>\")\n",
    "workspace_name = os.getenv(\"WORKSPACE_NAME\", default=\"<our_workspace_name>\")\n",
    "workspace_region = os.getenv(\"WORKSPACE_REGION\", default=\"<our_workspace_region>\")\n",
    "\n",
    "\n",
    "# load one directly from Azure, if it already exists (exist_ok=True).\n",
    "# If it does not exist, let's create a workspace from scratch\n",
    "ws = Workspace.create(name=workspace_name,\n",
    "                      subscription_id=subscription_id,\n",
    "                      resource_group=resource_group,\n",
    "                      location=workspace_region,\n",
    "                      create_resource_group=True,\n",
    "                      exist_ok=True\n",
    "                      )\n",
    "ws.write_config()\n",
    "print(\"Workspace was loaded successfully from Azure\")"
   ]
  },
  {
   "cell_type": "code",
   "execution_count": null,
   "metadata": {},
   "outputs": [],
   "source": [
    "# Print the workspace attributes\n",
    "print(f'Workspace name: {ws.name}\\n \\\n",
    "      Azure region: {ws.location}\\n \\\n",
    "      Subscription id: {ws.subscription_id}\\n \\\n",
    "      Resource group: {ws.resource_group}')"
   ]
  },
  {
   "cell_type": "code",
   "execution_count": null,
   "metadata": {},
   "outputs": [],
   "source": [
    "service = Webservice(workspace=ws, name='aci-service-1')\n",
    "print(service.scoring_uri)"
   ]
  },
  {
   "cell_type": "markdown",
   "metadata": {},
   "source": [
    "## Register the model \n",
    "Register an existing trained model, add descirption and tags."
   ]
  },
  {
   "cell_type": "code",
   "execution_count": 5,
   "metadata": {
    "scrolled": true
   },
   "outputs": [
    {
     "name": "stdout",
     "output_type": "stream",
     "text": [
      "Registering model automl-ss\n"
     ]
    }
   ],
   "source": [
    "model = Model.register(\n",
    "    model_path = \"sentence_similarity_regressor.pkl\",\n",
    "    model_name = \"automl-ss\",\n",
    "    tags = {\"Model\": \"automl-regressor\"},\n",
    "    description = \"using google universal encoder model\",\n",
    "    workspace = ws\n",
    ")"
   ]
  },
  {
   "cell_type": "code",
   "execution_count": null,
   "metadata": {},
   "outputs": [],
   "source": [
    "os.getcwd()"
   ]
  },
  {
   "cell_type": "markdown",
   "metadata": {},
   "source": [
    "## Create an image\n",
    "Create an image using the registered model the script that will load and run the model.\n",
    "score.py for infersent encoder"
   ]
  },
  {
   "cell_type": "code",
   "execution_count": 14,
   "metadata": {},
   "outputs": [
    {
     "name": "stdout",
     "output_type": "stream",
     "text": [
      "Overwriting score.py\n"
     ]
    }
   ],
   "source": [
    "%%writefile score.py\n",
    "import numpy as np\n",
    "import time\n",
    "import os\n",
    "import json\n",
    "import pickle\n",
    "import azureml.train.automl\n",
    "from sklearn.externals import joblib\n",
    "from azureml.core.model import Model\n",
    "\n",
    "\n",
    "def init():\n",
    "    global model\n",
    "    model_path = Model.get_model_path('automl-ss') # this should get the model path\n",
    "    model = joblib.load(model_path)\n",
    "    \n",
    "    \n",
    "def run(rawdata):\n",
    "    try:\n",
    "        data = json.loads(rawdata)['data']\n",
    "        data = np.array(data)\n",
    "        result = model.predict(data)\n",
    "    except Exception as e:\n",
    "        result = str(e)\n",
    "        return json.dumps({\"error\": result})\n",
    "    return json.dumps({\"result\":result.tolist()})\n"
   ]
  },
  {
   "cell_type": "markdown",
   "metadata": {},
   "source": [
    "Create an env.yaml using conda_dependencies from azureml.core package. Include all pip or conda depedencies for the model inage here"
   ]
  },
  {
   "cell_type": "code",
   "execution_count": null,
   "metadata": {},
   "outputs": [],
   "source": [
    "'''\n",
    "from azureml.core.conda_dependencies import CondaDependencies \n",
    "\n",
    "myenv = CondaDependencies.create(conda_packages=['numpy','pytorch','torchvision'], python_version = '3.6.8')\n",
    "\n",
    "myenv.add_channel('conda-forge')\n",
    "\n",
    "with open(\"automlenv.yml\",\"w\") as f:\n",
    "    f.write(myenv.serialize_to_string())\n",
    "'''\n",
    "    \n",
    "    "
   ]
  },
  {
   "cell_type": "code",
   "execution_count": 20,
   "metadata": {},
   "outputs": [
    {
     "data": {
      "text/plain": [
       "'automlenv.yml'"
      ]
     },
     "execution_count": 20,
     "metadata": {},
     "output_type": "execute_result"
    }
   ],
   "source": [
    "from azureml.core.conda_dependencies import CondaDependencies\n",
    "\n",
    "myenv = CondaDependencies.create(conda_packages=['numpy','scikit-learn','py-xgboost<=0.80'],\n",
    "                                 pip_packages=['azureml-sdk[automl]'], python_version = '3.6.8')\n",
    "\n",
    "conda_env_file_name = 'automlenv.yml'\n",
    "myenv.save_to_file('.', conda_env_file_name)"
   ]
  },
  {
   "cell_type": "code",
   "execution_count": 13,
   "metadata": {},
   "outputs": [
    {
     "ename": "NameError",
     "evalue": "name 'dependencies' is not defined",
     "output_type": "error",
     "traceback": [
      "\u001b[1;31m---------------------------------------------------------------------------\u001b[0m",
      "\u001b[1;31mNameError\u001b[0m                                 Traceback (most recent call last)",
      "\u001b[1;32m<ipython-input-13-4797e8e76abc>\u001b[0m in \u001b[0;36m<module>\u001b[1;34m\u001b[0m\n\u001b[0;32m      3\u001b[0m \u001b[1;33m\u001b[0m\u001b[0m\n\u001b[0;32m      4\u001b[0m \u001b[1;32mwith\u001b[0m \u001b[0mopen\u001b[0m\u001b[1;33m(\u001b[0m\u001b[0mconda_env_file_name\u001b[0m\u001b[1;33m,\u001b[0m \u001b[1;34m'w'\u001b[0m\u001b[1;33m)\u001b[0m \u001b[1;32mas\u001b[0m \u001b[0mcefw\u001b[0m\u001b[1;33m:\u001b[0m\u001b[1;33m\u001b[0m\u001b[1;33m\u001b[0m\u001b[0m\n\u001b[1;32m----> 5\u001b[1;33m     \u001b[0mcefw\u001b[0m\u001b[1;33m.\u001b[0m\u001b[0mwrite\u001b[0m\u001b[1;33m(\u001b[0m\u001b[0mcontent\u001b[0m\u001b[1;33m.\u001b[0m\u001b[0mreplace\u001b[0m\u001b[1;33m(\u001b[0m\u001b[0mazureml\u001b[0m\u001b[1;33m.\u001b[0m\u001b[0mcore\u001b[0m\u001b[1;33m.\u001b[0m\u001b[0mVERSION\u001b[0m\u001b[1;33m,\u001b[0m \u001b[0mdependencies\u001b[0m\u001b[1;33m[\u001b[0m\u001b[1;34m'azureml-sdk'\u001b[0m\u001b[1;33m]\u001b[0m\u001b[1;33m)\u001b[0m\u001b[1;33m)\u001b[0m\u001b[1;33m\u001b[0m\u001b[1;33m\u001b[0m\u001b[0m\n\u001b[0m",
      "\u001b[1;31mNameError\u001b[0m: name 'dependencies' is not defined"
     ]
    }
   ],
   "source": [
    "with open(conda_env_file_name, 'r') as cefr:\n",
    "    content = cefr.read()\n",
    "\n",
    "with open(conda_env_file_name, 'w') as cefw:\n",
    "    cefw.write(content.replace(azureml.core.VERSION, dependencies['azureml-sdk']))"
   ]
  },
  {
   "cell_type": "markdown",
   "metadata": {},
   "source": [
    "### Image creation"
   ]
  },
  {
   "cell_type": "code",
   "execution_count": 21,
   "metadata": {
    "scrolled": true
   },
   "outputs": [
    {
     "name": "stdout",
     "output_type": "stream",
     "text": [
      "Creating image\n",
      "Running.\n",
      "NotStarted..............................................\n",
      "Succeeded\n",
      "Image creation operation finished for image automl-image:5, operation \"Succeeded\"\n"
     ]
    }
   ],
   "source": [
    "from azureml.core.image import ContainerImage\n",
    "\n",
    "image_config = ContainerImage.image_configuration(execution_script = \"score.py\",\n",
    "                                                  runtime = \"python\",\n",
    "                                                  conda_file = \"automlenv.yml\",\n",
    "                                                  description = \"Image with automl model\",\n",
    "                                                  tags = {'area': \"nlp\", 'type': \"sentencesimilarity automl\"})\n",
    "\n",
    "image = ContainerImage.create(name = \"automl-image\",\n",
    "                              # this is the model object\n",
    "                              models = [model],\n",
    "                              image_config = image_config,\n",
    "                              workspace = ws)\n",
    "\n",
    "image.wait_for_creation(show_output = True)\n"
   ]
  },
  {
   "cell_type": "code",
   "execution_count": null,
   "metadata": {},
   "outputs": [],
   "source": []
  },
  {
   "cell_type": "markdown",
   "metadata": {},
   "source": [
    "If the above step fails then use below command to see logs "
   ]
  },
  {
   "cell_type": "code",
   "execution_count": null,
   "metadata": {},
   "outputs": [],
   "source": [
    "\n",
    "print(image.image_build_log_uri) "
   ]
  },
  {
   "cell_type": "markdown",
   "metadata": {},
   "source": [
    "## Deploy image as web service to Azure Container Instance"
   ]
  },
  {
   "cell_type": "code",
   "execution_count": 22,
   "metadata": {},
   "outputs": [],
   "source": [
    "#Set the web service configuration (using default here)\n",
    "aci_config = AciWebservice.deploy_configuration(cpu_cores = 1, \n",
    "                                               memory_gb = 1)"
   ]
  },
  {
   "cell_type": "code",
   "execution_count": 23,
   "metadata": {},
   "outputs": [
    {
     "name": "stdout",
     "output_type": "stream",
     "text": [
      "Creating service\n",
      "Running......................\n",
      "SucceededACI service creation operation finished, operation \"Succeeded\"\n",
      "Healthy\n"
     ]
    }
   ],
   "source": [
    "# deploy image as web service\n",
    "aci_service_name ='aci-service-automl-4'\n",
    "aci_service = Webservice.deploy_from_image(workspace = ws, \n",
    "                                           name = aci_service_name,\n",
    "                                           image = image,\n",
    "                                           deployment_config = aci_config)\n",
    "\n",
    "aci_service.wait_for_deployment(show_output = True)\n",
    "print(aci_service.state)"
   ]
  },
  {
   "cell_type": "code",
   "execution_count": null,
   "metadata": {},
   "outputs": [],
   "source": []
  },
  {
   "cell_type": "markdown",
   "metadata": {},
   "source": [
    "Fetch logs to debug incase of failures. "
   ]
  },
  {
   "cell_type": "code",
   "execution_count": 19,
   "metadata": {},
   "outputs": [
    {
     "name": "stdout",
     "output_type": "stream",
     "text": [
      "2019-06-14T17:23:50,516485899+00:00 - rsyslog/run \n",
      "2019-06-14T17:23:50,519038316+00:00 - nginx/run \n",
      "2019-06-14T17:23:50,518157176+00:00 - iot-server/run \n",
      "2019-06-14T17:23:50,524561171+00:00 - gunicorn/run \n",
      "EdgeHubConnectionString and IOTEDGE_IOTHUBHOSTNAME are not set. Exiting...\n",
      "2019-06-14T17:23:50,635289566+00:00 - iot-server/finish 1 0\n",
      "2019-06-14T17:23:50,637371362+00:00 - Exit code 1 is normal. Not restarting iot-server.\n",
      "Starting gunicorn 19.6.0\n",
      "Listening at: http://127.0.0.1:9090 (13)\n",
      "Using worker: sync\n",
      "worker timeout is set to 300\n",
      "Booting worker with pid: 45\n",
      "'pattern' package not found; tag filters are not available for English\n",
      "Initializing logger\n",
      "Starting up app insights client\n",
      "Starting up request id generator\n",
      "Starting up app insight hooks\n",
      "Invoking user's init function\n",
      "2019-06-14 17:23:57,403 | azureml.core.run | DEBUG | Could not load run context Could not load a submitted run, if outside of an execution context, use experiment.start_logging to initialize an azureml.core.Run., switching offline: False\n",
      "2019-06-14 17:23:57,403 | azureml.core.run | DEBUG | Could not load the run context and allow_offline set to False\n",
      "2019-06-14 17:23:57,403 | azureml.core.model | DEBUG | RunEnvironmentException: Could not load a submitted run, if outside of an execution context, use experiment.start_logging to initialize an azureml.core.Run.\n",
      "2019-06-14 17:23:57,403 | azureml.core.model | DEBUG | version is None. Latest version is 3\n",
      "2019-06-14 17:23:57,403 | azureml.core.model | DEBUG | Found model path at azureml-models/automl-ss/3/sentence_similarity_regressor.pkl\n",
      "User's init function failed\n",
      "Encountered Exception Traceback (most recent call last):\n",
      "  File \"/var/azureml-app/aml_blueprint.py\", line 158, in register\n",
      "    main.init()\n",
      "  File \"/var/azureml-app/main.py\", line 88, in init\n",
      "    driver_module.init()\n",
      "  File \"score.py\", line 14, in init\n",
      "    model = joblib.load(model_path)\n",
      "  File \"/opt/miniconda/lib/python3.6/site-packages/sklearn/externals/joblib/numpy_pickle.py\", line 598, in load\n",
      "    obj = _unpickle(fobj, filename, mmap_mode)\n",
      "  File \"/opt/miniconda/lib/python3.6/site-packages/sklearn/externals/joblib/numpy_pickle.py\", line 526, in _unpickle\n",
      "    obj = unpickler.load()\n",
      "  File \"/opt/miniconda/lib/python3.6/pickle.py\", line 1050, in load\n",
      "    dispatch[key[0]](self)\n",
      "  File \"/opt/miniconda/lib/python3.6/pickle.py\", line 1338, in load_global\n",
      "    klass = self.find_class(module, name)\n",
      "  File \"/opt/miniconda/lib/python3.6/pickle.py\", line 1388, in find_class\n",
      "    __import__(module, level=0)\n",
      "ModuleNotFoundError: No module named 'xgboost'\n",
      "\n",
      "Worker exiting (pid: 45)\n",
      "Shutting down: Master\n",
      "Reason: Worker failed to boot.\n",
      "2019-06-14T17:23:58,126796602+00:00 - gunicorn/finish 3 0\n",
      "2019-06-14T17:23:58,128076760+00:00 - Exit code 3 is not normal. Killing image.\n",
      "\n"
     ]
    }
   ],
   "source": [
    "print(aci_service.get_logs())"
   ]
  },
  {
   "cell_type": "code",
   "execution_count": null,
   "metadata": {},
   "outputs": [],
   "source": [
    "# get already deployed service \n",
    "Webservice.list(workspace = ws)"
   ]
  },
  {
   "cell_type": "markdown",
   "metadata": {},
   "source": [
    "## Test the web service using run method \n",
    "We test the web sevice by passing data. Run() method retrieves API keys behind the scenes to make sure that call is authenticated. The run method expects a valid json format. "
   ]
  },
  {
   "cell_type": "code",
   "execution_count": null,
   "metadata": {},
   "outputs": [],
   "source": [
    "import json\n",
    "sentences = [\"This is sentence 1\", \"This is sentence 2\"]\n",
    "#sentences = ['Everyone really likes the newest benefits', 'The Government Executive articles housed on the website are not able to be searched .', 'I like him for the most part , but would still enjoy seeing someone beat him .', 'My favorite restaurants are always at least a hundred miles away from my house .', 'I know exactly .', 'We have plenty of space in the landfill .', 'I did that all through college but it never worked', \"Most of Mrinal Sen 's work can be found in European collections .\", 'THe strike price could be $ 8 .', 'Would you rise up and defeaat all evil lords in the town ?', 'Go downwards to one of the gates , all of which will lead you into the cathedral .', \"The Tamils ' bhakti movement froze the previously warm ritual of Hinduism .\", 'Everyone involved was the same age .', 'Severn said the people were not welcome there .', \"We do n't loan a lot of money .\", \"I do n't know how cold it got last night .\", 'I need a way to add something extra .', 'Sometimes it is amusing to see what the hologram creates .', 'Gross national saving was highest this year .', 'The amount of lost mail is huge and really impacts mail volume', \"You do n't want to push the button lightly , but rather punch it hard .\", 'It has a buffet .', 'Clinton said that Monica Lewinsky made unwanted sexual advances during her time as a journalist in the White House .', 'Leading organizations want to be sure their employees are safe .', \"No , they would n't go there .\", 'This is how things are and there are no apologies about it .', 'Pope John Paul II also visited in 1983 .', 'Tourism is not very big in Spain .', \"She had changed a lot since the last time we 'd seen her .\", 'I can not wait for it to happen .', 'The 1931 Malay census was an alarm bell .', 'Many youth are lazy .', 'Interest rates should increase to increase saving .', 'There is a British publication called the Sun .', 'He loved how peaceful the village was .', 'The slopes between the Vosges and Rhine Valley are the only place appropriate for vineyards .', 'These deviations mostly involve failure to apply software updates in a timely manner .', 'Joan of Arc sacrificed her life at Rouen , which became an enduring symbol of opposition to tyranny .', \"Senior Executive 's have been studies on various aspects to reach the expectations .\", \"It 's impossible to have a plate hand-painted to your own design in Hong Kong .\", 'Jewelry and duty-free shops are an interesting place to buy goods .', 'Jobs never held onto an idea for long .', \"Democracies probably wo n't go to war unless someone attacks them on their soil\", 'There is no information on the mentality of the man , extraordinary or not , contained within the thin-paged book .', \"The military did n't pay for her education .\", 'These men filed their midterm exams from home .', 'Not many couples with kids can save up for retirement .', \"They dodged the draft , I 'll have you know .\", 'Lincoln took his hat off .', 'The stock market can experience much worse damage .', \"Missouri was happy to continue it 's planning efforts .\", 'He had recently seen pictures depicting those things .', 'See , there is a well known hero here .', 'At the end of the fourth century was when baked goods flourished .', 'No one plays sports on the weekend .', 'Harlem did a great job', 'The cushion will likely be spent in under two years .', 'I am beyond proud .', 'She has chose to live a hollow life .', 'All invasions of privacy should be severely punished , because it will teach the criminals that it is not worth doing .', 'The medicine he had taken had worked well .', 'New people chose to donate to the cause', 'Business intelligence industry is a new and promising field of study .', 'The gross cost .', 'Jim Lehrer has no credibility whatsoever .', 'Tuppence floated into the air .', 'Jamus looked over the mare .', \"There 's nothing worth seeing in the tourist offices .\", 'Changes were made to the Grant Renewal Application to provide extra information to the LSC .', 'This building job will be very difficult to complete .', 'Poirot did not look at me .', 'I want you to follow him , so watch for the signal that I give .', \"Cook 's American Business Alliance caused shares of stock to come back .\", 'I was dreadfully worried about many things .', 'I yelled at the top of my lungs .', \"Women 's bodies belong to themselves , they should decide what to do with it .\", 'You can sub it even if you do not want to get your hands on it .', 'What was unique ?', 'I know because I learned it growing up', 'Whole life policies are a type of life insurance that only cover the insured person until retirement from the workforce .', \"Justice Kennedy does n't care if the Supreme Court Reporters from 1790 to 1998 are thrown away .\", 'The whole countryside is scattered with small villages .']\n",
    "\n",
    "data = {'data': sentences}\n",
    "data = json.dumps(data)\n",
    "print(type(data))\n",
    "print(data)"
   ]
  },
  {
   "cell_type": "code",
   "execution_count": 30,
   "metadata": {},
   "outputs": [
    {
     "name": "stdout",
     "output_type": "stream",
     "text": [
      "<class 'numpy.ndarray'>\n",
      "21256649\n"
     ]
    }
   ],
   "source": [
    "# load multiple sentences\n",
    "import pandas as pd\n",
    "import json \n",
    "\n",
    "sentences = []\n",
    "data = pd.read_csv(\"testing_set.csv\")\n",
    "train_y = data['score'].values.flatten()\n",
    "train_x = data.drop(\"score\", axis=1).values\n",
    "\n",
    "print(type(train_x))\n",
    "\n",
    "train_x = train_x.tolist()\n",
    "data = {'data': train_x}\n",
    "data = json.dumps(data)\n",
    "print(len(data))\n",
    "\n",
    "#print(data)"
   ]
  },
  {
   "cell_type": "code",
   "execution_count": 31,
   "metadata": {
    "scrolled": true
   },
   "outputs": [
    {
     "name": "stdout",
     "output_type": "stream",
     "text": [
      "nb sentences encoded : 27005\n",
      "{\"result\": [2.214819090898734, 3.7706938042747375, 3.0781882683909005, 3.869533669921049, 1.2883272585204812, 1.7202466111769048, 3.4733980914072746, 2.0485645854056975, 2.631252821328933, 1.7006235165222483, 1.7006235165222483, 4.054679101385872, 1.4535831498906595, 3.353173122204415, 2.3015902963884756, 1.6734629175557592, 4.201997453073964, 3.400864121559613, 3.301564203308278, 1.6538660845723256, 2.35315904417188, 1.609571059570872, 3.876787615570435, 3.8296621730786713, 1.440571297828224, 3.2825800116509543, 1.2502532902291936, 2.9001951247264017, 1.9283168530468258, 3.2201117295648785, 3.63135940230565, 3.4339657240569466, 2.155529585768872, 3.9452969467799903, 2.5094914855986294, 0.17263563772765547, 1.282440235369095, 2.827545602576309, 3.0652856532839876, 0.7765182761102716, 3.0552306261904016, 3.022741045259836, 3.4709387163405805, 1.0764230879073133, 2.4546017874682513, 1.4162360202720037, 1.0173504130231579, 0.7038859191380052, 3.1204443830829964, 2.2467829875617213, 1.695194137610235, 1.914451505364805, 0.549656647852233, 0.7985110497464827, 1.7497108584948586, 0.49311488777804996, 3.1892951072210627, 1.2131825285102809, 3.2029428636374555, 1.6710903445277931, 3.7844404303348775, 0.8714783956719178, 3.002342470284418, 1.608726297140144, 3.7095691802268624, 0.3688308143290173, 1.0296856921021456, 2.889762277445906, 0.6032163182256897, 3.131544160401609, 3.273261432682334, 3.3471006975146724, 1.3017037689929454, 3.099728573202468, 2.800926195521029, 1.3044140629388206, 0.8107923659109206, -0.026563476080540303, 3.0240655892674817, 3.543389425008358, 0.4758136886382199, 1.6588243416896487, 2.6510877196802696, 1.2872904489022927, 0.7760489979452779, 2.4180072655030065, 2.9384188684932666, 3.2009261170283265, 3.025677254319837, 1.5788121540753837, 1.758128804345015, 3.2533887416077745, 1.4073720425712264, 2.76872462537495, 1.57280432652678, 3.2887238829969085, 3.6946247234952687, 3.318319060082117, 2.757523093617777, 2.9145968108763314, 0.2264750915239185, 0.9263178168627602, 3.252665570354726, 2.218769298563674, 2.942108352700528, 2.3087499855200595, 0.4358738946556497, 2.1646122530883614, 2.0140138947811845, 2.8732011812262535, 3.300648524450106, 3.032410518737499, 3.4640268801051977, 3.482438786756131, 0.47424173476875975, 0.5201416218782665, 3.3248879518609487, 2.7120598386248935, 1.1841424780731717, 1.3178576201214418, 2.0843625199154863, 1.6069349039503176, 1.6254460022663417, 1.0249742250813887, 0.7854433859612829, 3.4081183769955374, 1.4749107104906867, 2.5925821942569867, 2.865540105441095, 2.7097224763595293, 3.0394857814433394, 2.9092054511879066, 3.3588608669665945, 3.802481954978304, 2.318628472735821, 4.624766889740209, 3.990487123452055, 2.634656070361957, 1.9627306640310949, 3.7748663295229408, 4.103305857914741, 3.764245087554012, 2.918406834615415, 3.9974906533643195, 2.3502189106996427, 1.7941579761650992, 2.372733455700554, 3.411817812536457, 2.1877673148842574, 0.8657236588804267, 2.126525385691943, 1.4925188921196357, 3.29699370806512, 3.435090876977457, 3.2299405905130008, 3.2311655279116893, 0.6544835030194407, 2.0275973685172786, 3.706497267525568, 1.0557755502201376, 4.008958565630765, 2.7357016131245744, 1.7794202812205577, 3.2754298015597634, 3.156729991707228, 3.6389330983334385, 2.7828789217911853, 3.263551965665525, 3.1875220045144306, 2.7724266194275704, 2.084227622466571, 1.754073217413513, 3.5682391569878913, 3.4328834882399635, 2.970473850280149, 3.2431006511384237, 3.0739280458749136, 3.4921686265006504, -0.051546321515015606, 0.5483578832000059, 1.0429867293917936, 1.9305954696340137, 2.4327076154590515, 0.6860171458752921, 1.8531082867559985, 0.3603050492320695, -0.2772640231137444, 0.744454355675173, 0.9857780970743075, 0.8530019552492948, 3.4645825328185045, 3.6392561338276073, 1.6988518887461452, 3.1194769049157256, 2.9505605819444485, 3.498806076631415, 2.457359996145187, 1.2513988114639374, 0.05089596162248611, 2.949707739602868, 0.9345077455661106, 1.3950642463447638, 1.3791189167526585, 1.1334477019535893, 1.270474234169689, 1.8354979171309846, 3.162686562732456, 0.5811523151342435, 2.397351584588637, 2.4423364855474112, 2.1842082295681955, 1.3671045647540703, 1.2679276485799145, 1.6204667816651492, 2.9109974578907947, 1.036333293640065, 2.4369024664936103, 2.849009172224899, 3.2840596049736406, 2.648890822729216, 0.7320655343452463, 0.847245267011863, 2.0359896356500484, 3.432786012564477, -0.16065938331917923, 1.2487795598406513, 2.277900662599268, 2.3323335422759732, 1.4069084705065795, 1.2123718226383078, 0.6811716517389383, 0.9056567127961652, 2.0073429443705164, 3.689265042409699, 2.9918755905284695, 3.154109677926461, 0.49813107732228623, 0.5703820110794935, 1.8530970245209668, 0.4310649042566117, 2.336042073508015, 0.48699621236209545, 0.8155469633493151, 0.42882156007275773, 2.6989080799560186, 0.7869769744036655, 2.460148085641812, 2.0389845668487445, 0.6678229499794066, 0.6984955328701248, 2.7185184275388328, 3.82535430580779, 3.648126225887017, 2.775884711437563, 1.612106229204742, 3.208201336320297, 1.2068904483816254, 2.7150159706684374, 3.2050838374857795, 0.4396926042384623, 4.071396776938971, 3.134945826320005, 3.5322665535128275, 3.1354470116402706, 1.6068801694601056, 2.3436071724735603, 2.22375598447525, 2.949494811098088, 1.581271031669641, 4.11663198992563, 3.4987626482103877, 1.2556230703772815, 3.0959505684122797, 3.37424632577554, 3.5330485040416626, 4.048944632551529, 0.9822256119736141, 0.6549981961530297, 3.4398040276128627, 3.145540686072199, 1.4033206840663097, 2.1945831420870374, 3.0768636690321247, 3.125552163908925, 3.611844678073715, 2.5874289303205167, 1.78934189557098, 3.5656027274036797, 3.0276983220777502, 1.6578566259109078, 4.059872310921932, 1.67324377261667, 2.7017542990765806, 3.7559805202256227, 0.8811629179110992, 0.7206096974561019, 2.1095172467704546, 3.1092881670935726, 3.266435495467084, 2.8627088490203207, 3.5551288839916917, 2.6277865892960506, 1.7453623678028458, 3.6121486812779002, 2.732543671741798, 3.445394920627226, 3.4482106244968604, 2.0436977807176557, 3.7440650734403977, 2.798043512148509, 1.637311459996311, 0.46134982979582567, 1.3688037861778206, 3.5282727566538363, 3.25746640025137, 3.0702271123248717, 2.317025800126278, 3.2420328179275173, 1.0910832026351283, 2.088129586991227, 3.225006382909079, 2.7904758822946647, 3.0299407813622103, 2.8260181930716493, 2.959528464469506, 0.888871487865318, 2.9492999045650583, 2.983771687866994, 3.5315751435087135, 2.6080477428026763, 4.101670761847535, 3.519032019186817, 3.614320662782816, 3.0372970713766794, 2.491236884763971, 3.1371028741519495, 3.194535651596147, 2.8890471705832477, 0.8835802674260296, 1.6725661999406265, 3.508314923079218, 3.764771284203421, 4.0191194475835905, 2.4458064928591075, 2.1245487248951522, 0.9423468074271061, 3.1117129706147035, 1.7896142217254523, 3.057231598896316, 1.4225514945872169, 3.7009166772531037, 4.169763258921414, 1.1574933990868372, 3.8233015604586753, 3.032485495691677, 0.1422501206893529, 2.7165327641261516, 3.1497350328769507, 0.12997351161740042, 3.5596495459100477, 3.6888908779317715, 3.30935174796374, 3.0859874830868246, 2.5709276989707295, 3.4531065976445414, 1.2913467973669635, 2.304122165211069, 2.983328413323989, 4.004862870490322, 3.659144569256464, 3.210069372563897, 3.7693589987924048, 0.8118262859004254, 1.3092535765342672, 1.5675068051270449, 3.4438997820198143, 2.2176738893444714, 1.05077720454047, 2.1658728886295213, 2.5148983975793247, 3.8266097313359815, 3.45390827991229, 2.839485473223129, 1.2738549245460213, 2.762101031097256, 2.845576510023199, 3.1463186417517903, 1.560208085792146, 2.153175750359818, 2.538223255106701, 3.66348702517827, 1.7642870403360473, 0.36533290207834057, 1.0705137456052165, 3.009575033752597, 0.12040934952963073, 0.6391835944284854, 3.6982631884606905, 3.361909126869188, 2.150215903703209, 2.723959892184545, 0.649120379525539, 2.207989078680197, 3.2007937219940104, 2.300683185528666, 3.835475537526211, 0.9714634016523993, 3.3572766847880127, 2.8946828346446445, 2.5380613289946283, 3.068448010116299, 3.757445086455938, 2.086764371186713, 3.493373497893005, 0.9497939498301672, 2.0081195772498046, 0.49386832966320593, 4.06264840719519, 3.6967139869844905, 3.745450523917587, 4.074165561946255, 1.9958808355301143, 4.116905505433817, 1.1353083907058872, 2.7015348332266043, 2.8874917957650825, 0.8111888321471777, 4.109744342134477, 2.7247443350559877, 3.836263470710161, 1.3047499766317914, 3.7363716823830795, 0.8222779893233008, 2.4285579287888184, 0.695649210916047, 2.6411557557420102, 3.0202115660276685, 4.04580141328939, 3.6851675382888995, 3.208370266137283, 2.646968973391796, 3.2167450017882224, 0.9464478002984816, 3.2860065859613066, 3.8937140508393915, 0.592570691015126, 2.1713228819302977, 3.2728547119526596, 0.5473015221162578, 2.1252287671055123, 3.2886530787975765, 4.071703402645605, 1.46892853932278, 0.5558937080966136, 4.579351521064879, 2.7137290052834397, 2.76892836384503, 3.441173959952317, 2.7455762579877927, 2.493898634541203, 1.3697928946840434, 1.087159137814247, 0.5503192018140876, 1.8332480324487754, 3.406757998974807, 3.1973330529085815, 2.4361068856234205, 4.271177212745238, 3.341177561207216, 0.780267377591045, 3.157873793658702, 3.548207333763843, 2.555112750155374, 3.496291087021292, 2.6898508447985945, 2.4355083255824677, 0.9648167139941917, 2.628310782232062, 3.148801765434836, 1.8158531758483234, 4.203059856085086, 2.1849003806552725, 3.380750168961149, 1.4667137873680767, 3.9034365394137933, 1.4280311498744394, 2.806338497600479, 3.0152774985464466, 3.227814456024119, 3.3014587246353138, 3.8569483369057256, 2.8275857754316163, 3.186783366042696, 3.9654920367237807, 2.827798272090547, 2.5543372111212275, 0.9192439120698783, 3.293346794292099, 1.5669416823796656, 4.786372391514193, 1.8613758143661296, 1.2792606735336511, 1.6340044982059834, 3.196866543068356, 1.6368463960466497, 3.309391360741933, 2.1213699131732735, 1.3295318370755287, 2.9368054545695665, 1.7012573800886133, 1.2185590513897946, 1.9808891634061498, 3.5450575164202456, 0.7043641856398748, 1.7334868683287785, 1.4459866444102512, 2.561718215286773, 1.7882619867168963, 2.7120241711373385, 3.4932997488796103, 1.8581898414472486, 2.2923479046169777, 3.467886019822225, 2.5363484876858626, 3.653727921554281, 2.0839253195485483, 2.4894114754706593, 1.953065689970459, 3.8217522081015036, 1.6561654572359743, 1.0548520734622824, 1.2183233875662332, 2.1842607592178496, 1.2916717170498595, 1.9427871676195425, 1.3109535765644396, 3.412641558619244, 1.4982312320732079, 2.2177173570186626, 1.7410502909781724, 4.0448555937420965, 1.9243507178739685, 1.5825975575143858, 3.048967862020074, 3.2530468765933587, 3.9018165797808386, 1.0426669017250603, 2.3854890849597994, 2.650338427993247, 3.4714261465900527, 3.211941755735219, 1.3443589175715673, 2.704422018305459, 2.8224898770846463, 2.2153749787217234, 2.785725688044362, 2.573486735288642, 2.1255289003833147, 2.98291413576541, 2.51483595940244, 3.288908718446225, 1.9183361902499836, 2.190566903490678, 1.8379576447050543, 2.4062096858329163, 3.0149101752090632, 3.7915572456095905, 2.5475557603989505, 1.213883980283728, 1.963312517055628, 2.4885420495091224, 2.5748329151922915, 1.8488870633492844, 3.0985764482517903, 3.4843527240840126, 3.3888968698969872, 3.0884539672179865, 3.0677270745461573, 2.5678133214261205, 2.5573064434815675, 1.8370328113584948, 2.565735747569095, 3.0348980995983674, 1.715228409929308, 1.4932707272572376, 3.41885222904344, 2.0156407379274675, 3.2390643127397167, 1.6208220206433555, 2.3335213277080076, 2.350101127580878, 1.906137390428731, 3.5387351138033734, 1.506932077122266, 1.1474542255297988, 3.1028941232395004, 2.7335782526299304, 1.4858105363263336, 3.1554124127763767, 3.873230930482152, 3.2860305608433453, 1.6471662740948112, 1.9546340897541916, 1.363478642614199, 1.7694134291712247, 2.981253689964924, 2.5350535405194337, 1.6446904504244542, 2.73347737822016, 2.650455275486442, 3.8991723795947264, 1.9212662243022376, 2.2944922257685443, 1.5548278753657954, 2.213390282491679, 1.795823731345817, 2.833216302342726, 0.8221737390319307, 2.9705326469116886, 3.8206188669284105, 1.8708454974055624, 2.5591160086891653, 1.660808814703408, 4.022344932460977, 1.961125394671956, 3.1939371625743913, 2.52555886076107, 2.1281011545315613, 1.8510438185090612, 2.514651503414867, 2.8868612191240017, 3.3942958200587023, 2.5648025647979114, 2.4328793943943157, 2.17044088304669, 1.6841753418803596, 2.418572185782707, 2.3956205541549003, 2.7156474585745176, 3.1086719410776, 1.9055736135146473, 3.3572517146548297, 2.8517671885049585, 2.474576450510434, 2.542341540605608, 3.3614620180125256, 3.003105511006836, 2.9218797469155704, 3.142199262716138, 3.4296537080262546, 1.8475307736127589, 3.5824462879731525, 2.7528941047800597, 2.320389860285131, 2.3514380807496167, 2.539474169424183, 3.030387917750219, 2.1205383431481653, 2.785574154159452, 2.4499294833061094, 2.9468040369761503, 3.332977867575091, 2.27172293334865, 1.7894041279886739, 3.5896561457673255, 2.3035666571235205, 2.0253010998492975, 2.6041077050251342, 3.505828419045437, 2.628487137069696, 1.932695599055606, 2.947368446949005, 1.148807943288722, 3.604465798662709, 3.2307604422010314, 1.2929174101321772, 2.248549947245448, 2.1403605006134825, 1.8282237503784151, 1.8142354226118744, 2.7921043426792873, 1.8801735541532285, 3.077122636433904, 1.798928619037567, 2.3324617366476748, 1.8636747171384425, 2.3389886551934524, 1.369006033481568, 3.274875536313164, 2.8555703356883555, 2.447713404578522, 1.279528653229336, 3.72307421865516, 2.715919809315697, 3.1807707879706135, 2.158734161795595, 2.631052875704732, 1.7479327274215828, 1.9627851406641348, 3.406944466151609, 2.7519753593641605, 3.9172074139063415, 2.4370516197651506, 3.486396349039912, 2.0349918807141445, 1.857606659564609, 2.0556844098170166, 1.7661247321845495, 3.0248867506650194, 3.218804370337921, 2.8135207381341774, 1.5927594563189373, 1.9952516971069723, 2.658422059349838, 2.653223068753836, 1.6264262991815266, 2.501091101172587, 3.32478810197159, 2.452072132155035, 2.6374338604606358, 3.446475281108956, 2.5968481917524437, 2.468827954192934, 2.1188935784338288, 2.5088841493647642, 2.5714825976066673, 3.1197828535725214, 3.3990642698453577, 2.559848950623479, 2.863961532669073, 2.1598427991036275, 2.6234370423909015, 2.0013957299199503, 1.7151485404548155, 2.563738989872166, 1.8284841914536103, 2.532775838110458, 2.874058644903587, 2.145909679590107, 2.568911446644684, 2.5899256367650736, 3.233130502311216, 2.7346355666876843, 2.9560992168979587, 2.3605122668469334, 2.880186556955714, 2.2940997514395076, 2.205503954819132, 2.573772612895308, 2.1818657816296767, 1.6813600115760812, 2.320898967311516, 2.091295829756602, 2.1926140077324794, 2.3856082040967155, 2.81172480878935, 2.7714421247784666, 3.059471962494229, 2.2358947686726336, 2.425478598934487, 3.2325953053414205, 1.8882299896601864, 1.2872615457701722, 2.35618458921115, 2.968922828032427, 2.934561300753746, 2.8773237828533014, 2.2778942909140185, 2.9197869229736235, 2.514176772497736, 2.634008118483369, 2.32339789289646, 2.384152505805275, 3.404926020574993, 3.0868971791540374, 2.8400382994951694, 2.1631520011819863, 2.251873991184192, 2.4719651428721057, 1.9242450340304107, 2.6152205279707097, 2.5550230034191443, 3.733559726271535, 3.769439532095485, 2.452685935552777, 1.8903186532874545, 1.8184611100437147, 2.729825835465428, 3.0070047345615984, 2.1624284375258953, 2.556127264115451, 2.0931547929666916, 2.0169672944151578, 1.7620830489381596, 1.5514158621635439, 2.581537800740392, 2.32992144531838, 2.624063831628284, 1.7088047451669117, 2.319221957023004, 2.3348486300223072, 2.30116178274382, 1.680950885645121, 1.4776396118220358, 3.045978310585557, 3.4532116064286735, 3.309010566659064, 3.271318371061811, 3.2382111509482536, 2.1597563707490615, 2.699652561236925, 2.4980892477448955, 2.500786261624271, 2.376827331066352, 2.5405677769180004, 1.935494576730805, 2.0168055685430626, 2.5577351912314903, 3.530668877743245, 2.058580295295993, 1.7017739844585584, 2.5730544872173247, 2.545438895387724, 2.9469366067582268, 2.4333336231052414, 2.834237246535881, 3.0773083554209077, 1.8016985224941862, 2.5739093500087598, 3.309033035243329, 2.7174483604596196, 1.7641131011292706, 2.2959991190286706, 3.2354323298771206, 2.8816864865046914, 2.3071968321862535, 3.294750755657636, 1.5138882268214178, 2.131146942995211, 2.844158171177999, 3.3300096659244716, 2.3138822392582035, 3.3161407522869295, 3.4363932321534736, 3.3949975660307636, 2.8349393932583347, 2.8679849713513645, 3.4583650241705435, 2.4456760284929624, 2.769833538706645, 3.0605185382772913, 1.557115752135609, 3.246277986534645, 3.156484136446124, 3.2761688687240786, 2.1797609081646514, 1.751074389511587, 2.556674613400417, 3.068355458210094, 2.5150333090308155, 2.857443269409323, 3.402179757948861, 3.3892204446763903, 1.9127857992234598, 1.592340776354899, 1.5321322126544434, 1.7716436127508193, 1.854090907652082, 1.6274258640547468, 3.081922663418304, 2.43392399099087, 2.8654409191228805, 2.236434347493243, 3.420902449202157, 2.168382151904072, 3.9830373168673705, 2.4904336581435054, 3.4260973990059256, 3.5235686228542638, 2.630022130372484, 3.294055018871594, 2.568591596340934, 3.0241864883633234, 3.537388395092247, 1.7709206778083197, 3.762790426054281, 2.7816405117573506, 3.6813318325917384, 3.177217798178894, 2.6329202642053247, 3.3154577082828105, 2.8072453228934107, 2.424553022819265, 2.7503255740012356, 3.3748278423611677, 3.245124490538614, 3.162142497277138, 3.732601072688944, 2.674968658570876, 3.6063343688779623, 3.916900233714631, 3.760212434816871, 2.690093859917513, 3.8505934309463328, 4.259422177669056, 3.374543312822296, 2.6492422059196405, 2.801676716740859, 3.3085600542015876, 3.457293586022325, 3.4339704621696043, 2.871003903492189, 2.8878024899323513, 3.373597564155241, 3.3919170349183605, 3.3075429809313133, 3.140615301105683, 3.339698606076466, 3.484162104477248, 3.0143456004158247, 2.5330662730020737, 3.436060417072006, 4.0920348094116745, 3.633272246212226, 3.701599372628588, 3.1332045452961257, 2.705246425772289, 2.045804504117454, 3.492254456889519, 3.5248349084199466, 2.4647099951024276, 3.381124272959249, 3.6170348653725157, 1.6332817264864652, 2.7196703573554486, 2.4815360481514057, 2.8007393374996292, 3.290960355404737, 2.9355706458331565, 3.020807973882412, 3.668269165405668, 3.5870570134721254, 3.361891251816059, 3.418441785996071, 2.4288667078839206, 3.6508202479548797, 3.853443740649158, 2.786135995835403, 2.516070322923848, 2.8152292517743494, 2.932474614210678, 2.9450368762050267, 3.0671680601168143, 2.6275843607170977, 3.580170022688913, 2.36336394380869, 3.0323824342960246, 2.6608838028126685, 3.760365697248204, 2.77493717608192, 3.363801955952379, 2.6343397599362683, 3.434683799153509, 2.789533074028978, 2.4127191875206293, 3.438119973625559, 3.6830259394793488, 2.5991351651553747, 3.448209917258956, 2.8867335235110274, 2.64704560414034, 3.5127093592891345, 3.6644900292159246, 3.143379513335824, 3.2572648558221133, 2.8002721442237957, 3.648834872098694, 4.0657700036665885, 3.6308488502520664, 2.6167619004775142, 3.265400550376658, 3.9154934138070194, 2.9751408352542312, 2.7014655347567005, 2.9631021152164103, 3.4127532659177517, 3.0935206384848017, 3.643229133492717, 2.7177694791528135, 3.3220119107308403, 3.950958238045021, 2.7163374679596837, 2.6139841199024976, 2.369291304122063, 1.9652682805959523, 2.59214484542785, 2.419656377657431, 3.704575740254665, 1.762740041015054, 2.569861811279874, 3.019617442390768, 2.642809701706687, 3.136714008256713, 3.6259727733935336, 2.6252360903161343, 2.8221943518041623, 3.662562378715134, 3.3086787474103083, 3.187747816368616, 3.3170289977748952, 3.198132586003768, 3.665485514843493, 3.56970182908465, 3.228131363211718, 3.8087698217244217, 3.311091449139624, 3.4456962713164665, 3.7755804224422667, 3.781698122372746, 3.22544051589678, 3.368490151898339, 3.3021357560263582, 3.5811230309112236, 2.623379873577174, 3.32434087649865, 3.337666396983048, 3.564448560303328, 2.563294157296386, 3.395669035619246, 2.016895605834999, 2.61076995542923, 3.512030779103095, 3.632018757469654, 2.8156936738932483, 3.7019568284957023, 2.3140262729708576, 3.5378171676557093, 3.6027530236700356, 3.90579298656879, 4.13546533817603, 3.6648479381744, 3.2174410781369454, 3.601853858676068, 3.2047768942301103, 3.58108514617503, 2.5164592860873536, 2.1323056347172415, 2.6453232905379847, 3.5092440291949094, 3.048599065825391, 3.90479848476626, 3.5779431501162424, 4.032460124948505, 1.9568702402908507, 3.0110637835674168, 3.638403661961612, 3.4279457315180473, 3.9534128444552, 3.380224819066304, 2.7958367365619416, 2.3467283354176907, 3.1585067857831115, 3.0125486087809477, 2.3669794865866423, 3.0635537341652292, 2.4773154027738973, 3.5856071682577615, 2.2338446836066477, 2.986804373005634, 3.480048466848282, 3.808930682115056, 3.085940663739104, 2.791851148135082, 1.4841815355925152, 2.3504764828816884, 2.596029202754657, 3.440599719014421, 3.8890346372772413, 3.950880152607974, 2.850365001898089, 2.595359972603995, 3.5008199894088077, 3.704260771141224, 2.3236787651898387, 2.951763080821446, 3.5373518282572545, 2.9940619378704714, 2.4491563079927046, 2.5660277639300975, 3.7855724056054547, 3.6434927564714923, 4.063159006567379, 3.738978197529074, 2.9955634072197705, 2.7628381589282953, 3.146126244072643, 3.001731039000766, 3.370506678639841, 2.4781145690058706, 1.8428909362544894, 2.6968770358878165, 3.3066615481158905, 3.2676375273672433, 3.5407858923240463, 2.7276196418532046, 3.279115478880089, 3.5516887535377997, 2.5491419496553402, 3.273422047421115, 3.9023006726155933, 1.9959080857444231, 2.6170569722612225, 3.639627595214673, 3.701764084691692, 3.9506508248931995, 4.005641124800181, 3.3394308988543324, 2.7105706643257657, 2.87537286076745, 3.1180746396211827, 2.4933260568295363, 1.3309942230839256, 3.7689203154071276, 3.305813332340388, 3.294783108990736, 3.498859497824104, 3.4852238576897148, 3.7322921939340903, 3.5167534250438024, 3.021719489585265, 1.8165818668821339, 2.032696257264989, 3.351102755885166, 1.4523507046387694, 2.1221648254618772, 3.316509137458979, 2.6408143438691436, 3.146799244010276, 1.6163809610557451, 3.942344158502717, 2.7254588420295143, 2.2487637415598636, 2.3156720857898305, 3.3039329485843947, 3.191935167341976, 2.3890309799562157, 2.5059945126664807, 3.0853674784081666, 2.9582880979390898, 3.376950439129688, 2.2233796050955603, 0.7021318789929467, 3.768654964513855, 2.947901520715237, 4.439888740688673, 3.3286695281202383, 2.9314565248025524, 1.8183136205891568, 3.1922730742323893, 1.5580889059784893, 2.6566869941035365, 3.135199373237037, 1.5782699661933626, 2.791300778791646, 3.0263655758096655, 1.0313885199804762, 2.4775228773104803, 2.001467816022115, 2.572454422356423, 1.8398451088995402, 2.5455781699918507, 4.0803088954867635, 2.6954140064517933, 2.9515020972327206, 2.0892490539648914, 0.8246591344697413, 3.5006336635386957, 2.6326563772837064, 3.2209545452860646, 1.4422004120557228, 2.0413477032445475, 2.76696303496728, 3.3227664760386273, 2.8442191629778155, 1.330708592270754, 3.586493996211935, 3.711682997503937, 3.223100757668179, 2.7586149550057355, 3.494355128676967, 2.3317659676919633, 3.6330481332431477, 2.4686466104305596, 2.793000354905, 1.6709561798714407, 3.0158467876444806, 3.7404968966604555, 3.297811973740615, 3.4359027677921157, 2.9384266113920017, 1.976601995645059, 2.1408472551226634, 2.6962557259607487, 3.019896533144453, 3.3692034422994848, 3.0512243827974457, 4.0544248102297775, 3.0591321321507854, 3.310171518304183, 2.304865077377374, 2.920590939390978, 3.8430142204371434, 4.062882123197763, 2.848007950799567, 3.5969995854436325, 2.9877085599528783, 1.9396259681745707, 2.062693069341421, 1.7098459210885886, 2.1385094118497, 1.828724698051418, 2.430841191981689, 3.6299341387254502, 2.4573557870717337, 3.3022728079246995, 1.1425904183934616, 2.9995283002575848, 3.4704810611470127, 4.329020771114324, 3.227952144945666, 3.5444016013301822, 3.398870147806172, 3.203108328025106, 3.9856632445146127, 3.081698216102982, 2.974029077555306, 2.214350036124782, 2.2861682017574383, 3.1559963174789756, 2.9196080329174867, 1.8092037474874845, 1.989203067884166, 3.6740589042741503, 3.0277772188541436, 1.8544428847443968, 4.656093854393154, 3.636393980693164, 2.303246568808805, 1.2851171094357015, 3.4853105008603813, 3.461067325274659, 3.936434779298097, 2.092393860106629, 2.840655387189757, 0.7591830584124927, 4.325826954454214, 3.081089167862488, 4.199647350352682, 2.7801557895483437, 3.5056215718466177, 2.51441973903566, 2.034025923766061, 2.667694637672184, 1.9380643189986964, 2.7306585519904747, 3.2406647911146496, 3.762633702054444, 2.972557845542305, 2.051026653561754, 2.046513256522948, 3.1276419575378607, 2.018863645182726, 2.5613925288834007, 3.4883438703297593, 2.690695138689019, 2.5141367026208967, 1.460949718378019, 3.4161513837460187, 1.4171718779307598, 3.5477043725652937, 0.21924733592754325, 0.7393914212611559, 3.0219423979819435, 2.978728665913792, 1.712430450733216, 3.043240620305568, 3.348333478184267, 1.4065808405050149, 1.7202902833094509, 2.5979728389019616, 3.560258215287255, 0.8419231158484398, 2.7766349861490047, 3.0381355463683493, 2.5422018451959234, 2.1271798509367366, 3.889248051582742, 1.4963239115321043, 0.9417036719153118, 2.228165426808923, 3.005484557907162, 3.1200049061324906, 3.0911896168965485, 2.096084818480488, 2.276326515967658, 2.422418933253249, 1.9122555773325705, 1.3074175654616027, 2.292048309829936, 2.7004388719990153, 2.7265012419079895, 3.527848527768692, 2.003787656389386, 2.4775772553360897, 2.266600133542294, 3.830940321418878, 3.4007141075335174, 3.109429326283701, 2.5176278676118944, 0.9225089711207269, 4.547440823756637, 2.2333447654046297, 2.880885568617537, 2.6814193915598166, 3.839470956634494, 4.210431381222488, 3.2345484512520133, 2.9834296800168176, 2.2711352742542705, 2.932795319992148, 3.7362608695010353, 2.6018571453565187, 2.5487433467450313, 3.733772723685265, 3.0014421335193004, 4.091883045866328, 3.5071747755238074, 3.236237423998606, 1.605772545968165, 3.2510327353179003, 3.33035319815603, 3.6065197312938273, 2.6305644915491637, 1.7614654956312468, 2.1619363449567466, 2.9456995281885257, 3.8149372522187486, 3.498702996817378, 3.8320928517691946, 2.714742302874749, 3.554067448931932, 4.650637489780034, 3.7233727543072543, 3.9564499402069924, 2.6202666594324615, 2.429630405870424, 3.0425581103253427, 3.7768617473280854, 3.0012943469971516, 2.861264019511091, 1.3729082523828546, 3.7139997842884633, 1.5796542135304543, 2.112192794392797, 2.5575906232224033, 2.4674359656317417, 2.191294051924001, 3.1434886501488175, 1.1801443316649238, 3.0034440022768116, 1.8182875308228754, 1.270175488932911, 2.685035461294822, 2.4716220818927215, 1.243718977691848, 2.0926850875110476, 1.8515973151613512, 0.11629183227978442, 1.7517085784708308]}\n"
     ]
    }
   ],
   "source": [
    "\n",
    "#embeddings = aci_service.run(input_data = data)\n",
    "\n",
    "score = aci_service.run(input_data = data)\n",
    "\n",
    "# embeddings will print the error message incase error occurs.\n",
    "print('nb sentences encoded : {0}'.format(len(score)))\n",
    "print(score)"
   ]
  },
  {
   "cell_type": "code",
   "execution_count": 40,
   "metadata": {},
   "outputs": [
    {
     "name": "stdout",
     "output_type": "stream",
     "text": [
      "0.7817562992742639\n"
     ]
    }
   ],
   "source": [
    "from scipy.stats import pearsonr\n",
    "#print(train_y)\n",
    "result = json.loads(score)\n",
    "output = result[\"result\"]\n",
    "print(pearsonr(output, train_y)[0])"
   ]
  },
  {
   "cell_type": "markdown",
   "metadata": {},
   "source": [
    "Fetch logs to debug incase of failures. "
   ]
  },
  {
   "cell_type": "code",
   "execution_count": null,
   "metadata": {},
   "outputs": [],
   "source": [
    "print(aci_service.get_logs())"
   ]
  },
  {
   "cell_type": "markdown",
   "metadata": {},
   "source": [
    "## Clean up\n",
    "Delete the service, image and model."
   ]
  },
  {
   "cell_type": "code",
   "execution_count": null,
   "metadata": {},
   "outputs": [],
   "source": [
    "#aci_service.delete()\n",
    "#image.delete()\n",
    "#model.delete()"
   ]
  }
 ],
 "metadata": {
  "kernelspec": {
   "display_name": "Python 3",
   "language": "python",
   "name": "python3"
  },
  "language_info": {
   "codemirror_mode": {
    "name": "ipython",
    "version": 3
   },
   "file_extension": ".py",
   "mimetype": "text/x-python",
   "name": "python",
   "nbconvert_exporter": "python",
   "pygments_lexer": "ipython3",
   "version": "3.6.8"
  }
 },
 "nbformat": 4,
 "nbformat_minor": 2
}
